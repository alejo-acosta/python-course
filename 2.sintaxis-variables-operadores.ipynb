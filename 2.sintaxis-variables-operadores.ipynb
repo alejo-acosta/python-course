{
 "cells": [
  {
   "cell_type": "markdown",
   "source": [
    "# 2. Sintaxis, variables y operadores"
   ],
   "metadata": {}
  },
  {
   "cell_type": "markdown",
   "source": [
    "## 2.1. Sintaxis"
   ],
   "metadata": {}
  },
  {
   "cell_type": "markdown",
   "source": [
    "En general Python usa una sintaxis en forma de *funciones*: $f(x,y,z)$"
   ],
   "metadata": {}
  },
  {
   "cell_type": "code",
   "execution_count": 3,
   "source": [
    "print(1,2,3, 'hola', 'UDLA')\n",
    "\n",
    "range(10)"
   ],
   "outputs": [
    {
     "output_type": "stream",
     "name": "stdout",
     "text": [
      "1 2 3 hola UDLA\n"
     ]
    },
    {
     "output_type": "execute_result",
     "data": {
      "text/plain": [
       "range(0, 10)"
      ]
     },
     "metadata": {},
     "execution_count": 3
    }
   ],
   "metadata": {}
  },
  {
   "cell_type": "markdown",
   "source": [
    "Python siempre comienza numerando desde **0**, es decir el primer elemento de un arreglo tendrá como índice el número 0. Esta es una característica que Python comparte con la mayoría de lenguajes de programación fuertes (C, Java, Swift, PHP, etc.). El porqué, está fuera del alcance del curso pero si desean entender más sobre este tema, pueden leer el siguiente artículo: [Array Indexing: 0-based or 1-based?](https://medium.com/analytics-vidhya/array-indexing-0-based-or-1-based-dd89d631d11c) o el siguiente ensayo desde una perspectiva matemática: [Why numbering should start at zero](https://www.cs.utexas.edu/users/EWD/ewd08xx/EWD831.PDF)."
   ],
   "metadata": {}
  },
  {
   "cell_type": "markdown",
   "source": [
    "Podemos obtener la documentación (*docstring*) de una función utilizando el signo **?** antes de la función:"
   ],
   "metadata": {}
  },
  {
   "cell_type": "code",
   "execution_count": 1,
   "source": [
    "?range"
   ],
   "outputs": [
    {
     "output_type": "stream",
     "name": "stdout",
     "text": [
      "\u001b[0;31mInit signature:\u001b[0m \u001b[0mrange\u001b[0m\u001b[0;34m(\u001b[0m\u001b[0mself\u001b[0m\u001b[0;34m,\u001b[0m \u001b[0;34m/\u001b[0m\u001b[0;34m,\u001b[0m \u001b[0;34m*\u001b[0m\u001b[0margs\u001b[0m\u001b[0;34m,\u001b[0m \u001b[0;34m**\u001b[0m\u001b[0mkwargs\u001b[0m\u001b[0;34m)\u001b[0m\u001b[0;34m\u001b[0m\u001b[0;34m\u001b[0m\u001b[0m\n",
      "\u001b[0;31mDocstring:\u001b[0m     \n",
      "range(stop) -> range object\n",
      "range(start, stop[, step]) -> range object\n",
      "\n",
      "Return an object that produces a sequence of integers from start (inclusive)\n",
      "to stop (exclusive) by step.  range(i, j) produces i, i+1, i+2, ..., j-1.\n",
      "start defaults to 0, and stop is omitted!  range(4) produces 0, 1, 2, 3.\n",
      "These are exactly the valid indices for a list of 4 elements.\n",
      "When step is given, it specifies the increment (or decrement).\n",
      "\u001b[0;31mType:\u001b[0m           type\n",
      "\u001b[0;31mSubclasses:\u001b[0m     \n"
     ]
    }
   ],
   "metadata": {}
  },
  {
   "cell_type": "markdown",
   "source": [
    "Para delimitar texto se puede ocupar doble o simple comillas: \"hola\" , 'hola'"
   ],
   "metadata": {}
  },
  {
   "cell_type": "markdown",
   "source": [
    "Todo lo que esté después del signo numeral # se lee como comentario."
   ],
   "metadata": {}
  },
  {
   "cell_type": "code",
   "execution_count": 2,
   "source": [
    "# Esto es un comentario\n",
    "print('Esto es código. La raíz cuadrada de 2 es =', 2**0.5) # Esto también es un comentario\n",
    "# Esta línea también es comentario"
   ],
   "outputs": [
    {
     "output_type": "stream",
     "name": "stdout",
     "text": [
      "Esto es código. La raíz cuadrada de 2 es = 1.4142135623730951\n"
     ]
    }
   ],
   "metadata": {}
  },
  {
   "cell_type": "code",
   "execution_count": 8,
   "source": [
    "# Algunas funciones específicas se pueden encadenar:\n",
    "\n",
    "texto = \"Investigación\"\n",
    "print(texto.upper().lower())"
   ],
   "outputs": [
    {
     "output_type": "stream",
     "name": "stdout",
     "text": [
      "investigación\n"
     ]
    }
   ],
   "metadata": {}
  },
  {
   "cell_type": "code",
   "execution_count": 16,
   "source": [
    "# una larga línea de código se puede dividir con backslash \\\n",
    "print(\"hola\"\\\n",
    "    .upper())"
   ],
   "outputs": [
    {
     "output_type": "stream",
     "name": "stdout",
     "text": [
      "HOLA\n"
     ]
    }
   ],
   "metadata": {}
  },
  {
   "cell_type": "code",
   "execution_count": 3,
   "source": [
    "print('hola'     .       upper())"
   ],
   "outputs": [
    {
     "output_type": "stream",
     "name": "stdout",
     "text": [
      "HOLA\n"
     ]
    }
   ],
   "metadata": {}
  },
  {
   "cell_type": "markdown",
   "source": [
    "La sangría son los espacios al comienzo de una línea de código.\n",
    "\n",
    "En otros lenguajes de programación la sangría se usa solo por legibilidad (e.g. R, Stata), pero en Python es muy importante.\n",
    "\n",
    "Python usa sangría para indicar bloques de código."
   ],
   "metadata": {}
  },
  {
   "cell_type": "code",
   "execution_count": 10,
   "source": [
    "def cubo_mas_uno(x):\n",
    "    c = x * x * x\n",
    "    c = c + 1\n",
    "    return c\n"
   ],
   "outputs": [],
   "metadata": {}
  },
  {
   "cell_type": "code",
   "execution_count": 11,
   "source": [
    "cubo_mas_uno(3)"
   ],
   "outputs": [
    {
     "output_type": "execute_result",
     "data": {
      "text/plain": [
       "28"
      ]
     },
     "metadata": {},
     "execution_count": 11
    }
   ],
   "metadata": {}
  },
  {
   "cell_type": "markdown",
   "source": [
    "## 2.1. Introducción a datos"
   ],
   "metadata": {}
  },
  {
   "cell_type": "markdown",
   "source": [
    "Una variable es una referencia (o vínculo) que hacemos entre un nombre y un espacio en la memoria."
   ],
   "metadata": {}
  },
  {
   "cell_type": "markdown",
   "source": [
    "### Memory reference"
   ],
   "metadata": {}
  },
  {
   "cell_type": "markdown",
   "source": [
    "<!-- <p><img alt=\"UDLA logo\" height=\"480px\" src=\"./images/memory.jpg\" align=\"center\" hspace=\"10px\" vspace=\"10px\"></p> -->\n",
    "![image](./images/memory.jpg)\n"
   ],
   "metadata": {}
  },
  {
   "cell_type": "markdown",
   "source": [
    "### Resource allocation"
   ],
   "metadata": {}
  },
  {
   "cell_type": "markdown",
   "source": [
    "<!-- <p><img alt=\"UDLA logo\" height=\"480px\" src=\"./images/cpu.jpg\" align=\"center\" hspace=\"10px\" vspace=\"10px\"></p> -->\n",
    "![image](./images/cpu.jpg)"
   ],
   "metadata": {}
  },
  {
   "cell_type": "code",
   "execution_count": 41,
   "source": [
    "x = [\"a\", \"b\", \"c\"]\n",
    "\n",
    "y = x\n",
    "\n",
    "y[0] = \"z\"\n"
   ],
   "outputs": [],
   "metadata": {}
  },
  {
   "cell_type": "code",
   "execution_count": 42,
   "source": [
    "print(x)"
   ],
   "outputs": [
    {
     "output_type": "stream",
     "name": "stdout",
     "text": [
      "['z', 'b', 'c']\n"
     ]
    }
   ],
   "metadata": {}
  },
  {
   "cell_type": "markdown",
   "source": [
    "## Tipos de variables"
   ],
   "metadata": {}
  },
  {
   "cell_type": "markdown",
   "source": [
    "### Numéricas"
   ],
   "metadata": {}
  },
  {
   "cell_type": "code",
   "execution_count": 43,
   "source": [
    "enteros = 12345\n",
    "flotantes = 1.234\n",
    "complejos = complex(1.2, 3.4)\n",
    "\n",
    "print(enteros)\n",
    "print(flotantes)\n",
    "print(complejos)\n"
   ],
   "outputs": [
    {
     "output_type": "stream",
     "name": "stdout",
     "text": [
      "12345\n",
      "1.234\n",
      "(1.2+3.4j)\n"
     ]
    }
   ],
   "metadata": {}
  },
  {
   "cell_type": "markdown",
   "source": [
    "### String (Texto)"
   ],
   "metadata": {}
  },
  {
   "cell_type": "code",
   "execution_count": 44,
   "source": [
    "texto1 = 'Hola UDLA'\n",
    "\n",
    "print(texto1)"
   ],
   "outputs": [
    {
     "output_type": "stream",
     "name": "stdout",
     "text": [
      "Hola UDLA\n"
     ]
    }
   ],
   "metadata": {}
  },
  {
   "cell_type": "code",
   "execution_count": 45,
   "source": [
    "# Multiples líneas de texto\n",
    "texto_lineas = \"\"\"\n",
    "String\n",
    "en\n",
    "multiples\n",
    "líneas\n",
    "\"\"\"\n",
    "\n",
    "print(texto_lineas)"
   ],
   "outputs": [
    {
     "output_type": "stream",
     "name": "stdout",
     "text": [
      "\n",
      "String\n",
      "en\n",
      "multiples\n",
      "líneas\n",
      "\n"
     ]
    }
   ],
   "metadata": {}
  },
  {
   "cell_type": "code",
   "execution_count": 1,
   "source": [
    "# Se puede incluir caracteres especiales con backslash \\:\n",
    "texto_espacio = \"línea 1 \\n línea 2\" # \\n = new line\n",
    "texto_tab = \"texto 1 \\t texto 2 \\t texto3 3\" # \\t = tabulación\n",
    "\n",
    "print(texto_espacio)\n",
    "print(\"-------------------------\")\n",
    "print(texto_tab)"
   ],
   "outputs": [
    {
     "output_type": "stream",
     "name": "stdout",
     "text": [
      "línea 1 \n",
      " línea 2\n",
      "-------------------------\n",
      "texto 1 \t texto 2 \t texto3 3\n"
     ]
    }
   ],
   "metadata": {}
  },
  {
   "cell_type": "markdown",
   "source": [
    "```{admonition} Pregunta\n",
    "¿Por qué \"línea 1\" y \"línea 2\" tienen sangrías diferentes?\n",
    "```"
   ],
   "metadata": {}
  },
  {
   "cell_type": "code",
   "execution_count": 47,
   "source": [
    "# El texto puede tomar el valor de una variable (formatted text)\n",
    "\n",
    "numero = 12\n",
    "texto_formato = f\"La raíz de {numero} es {numero**0.5} y su cubo es {numero**3}\"\n",
    "\n",
    "print(texto_formato)\n"
   ],
   "outputs": [
    {
     "output_type": "stream",
     "name": "stdout",
     "text": [
      "La raíz de 12 es 3.4641016151377544 y su cubo es 1728\n"
     ]
    }
   ],
   "metadata": {}
  },
  {
   "cell_type": "markdown",
   "source": [
    "### Colecciones de datos (o datos estructurados)"
   ],
   "metadata": {}
  },
  {
   "cell_type": "markdown",
   "source": [
    "Son agrupaciones que nos permiten asignar multiples datos a una sola variable.\n",
    "\n",
    "Existen 4 tipos de colecciones:"
   ],
   "metadata": {}
  },
  {
   "cell_type": "markdown",
   "source": [
    "|                                     | Ordenada |  Indexada  | Modificable | Permite duplicados |\n",
    "|:-----------------------------------:|:--------:|:----------:|:-----------:|:------------------:|\n",
    "|       **Lista**<br />(*List*)       |     X    |  X (auto)  |      X      |          X         |\n",
    "|       **Tupla**<br />(*Tuple*)      |     X    |  X (auto)  |             |          X         |\n",
    "| **Diccionario**<br />(*Dictionary*) |     X    | X (manual) |      X      |                    |\n",
    "|      **Conjunto**<br />(*Set*)      |          |            |      X      |                    |"
   ],
   "metadata": {}
  },
  {
   "cell_type": "markdown",
   "source": [
    "Se declaran de la siguiente manera:"
   ],
   "metadata": {}
  },
  {
   "cell_type": "code",
   "execution_count": 48,
   "source": [
    "# LISTAS\n",
    "list1 = [1, 2, 3, 1, 2, \"a\", \"b\", \"a\", \"b\"]\n",
    "\n",
    "# TUPLAS\n",
    "tuple1 = (1, 2, 3, 4, 5, \"a\", \"b\", 1)\n",
    "\n",
    "# DICCIONARIOS\n",
    "dict1 = {\"ECU\": \"Ecuador\", \"COL\": \"Colombia\", \"PER\": \"Perú\", \"BOL\": \"Bolivia\"}\n",
    "\n",
    "# SETS\n",
    "set1 = set(list1)\n"
   ],
   "outputs": [],
   "metadata": {}
  },
  {
   "cell_type": "code",
   "execution_count": 49,
   "source": [
    "print(list1)\n",
    "print(tuple1)\n",
    "print(dict1)\n",
    "print(set1)"
   ],
   "outputs": [
    {
     "output_type": "stream",
     "name": "stdout",
     "text": [
      "[1, 2, 3, 1, 2, 'a', 'b', 'a', 'b']\n",
      "(1, 2, 3, 4, 5, 'a', 'b', 1)\n",
      "{'ECU': 'Ecuador', 'COL': 'Colombia', 'PER': 'Perú', 'BOL': 'Bolivia'}\n",
      "{1, 2, 3, 'a', 'b'}\n"
     ]
    }
   ],
   "metadata": {}
  },
  {
   "cell_type": "markdown",
   "source": [
    "A estas colecciones se les considera estructuras unidemensionales. Sin embargo, podemos representar N dimensiones al anidarlar (*nested lists*)."
   ],
   "metadata": {}
  },
  {
   "cell_type": "code",
   "execution_count": 50,
   "source": [
    "matriz = [[3, 4, 5], [2, 6, 7], [0, 1, 9]]\n",
    "notas = {\"A0001\": [10, 10, 8, 9, 8], \"A0002\": [3, 1, 5, 7.4, 8]}\n",
    "\n",
    "print(matriz)\n",
    "print(notas)"
   ],
   "outputs": [
    {
     "output_type": "stream",
     "name": "stdout",
     "text": [
      "[[3, 4, 5], [2, 6, 7], [0, 1, 9]]\n",
      "{'A0001': [10, 10, 8, 9, 8], 'A0002': [3, 1, 5, 7.4, 8]}\n"
     ]
    }
   ],
   "metadata": {}
  },
  {
   "cell_type": "markdown",
   "source": [
    "La idea es que, al ser un lenguaje **dinámico**, no hay restricción en lo que se puede agrupar en una colección de datos."
   ],
   "metadata": {}
  },
  {
   "cell_type": "markdown",
   "source": [
    "## Slicing"
   ],
   "metadata": {}
  },
  {
   "cell_type": "markdown",
   "source": [
    "Podemos seleccionar datos específicos de las colecciones utilizando el método slicing. **Tener en cuenta que la numeración empieza en 0**."
   ],
   "metadata": {}
  },
  {
   "cell_type": "code",
   "execution_count": 51,
   "source": [
    "list1 = [1, 2, 3, \"a\", \"b\", \"c\"]"
   ],
   "outputs": [],
   "metadata": {}
  },
  {
   "cell_type": "markdown",
   "source": [
    "**Lista**\n",
    "|key|-key|  Value |\n",
    "|---|----|--------|\n",
    "| 0 | -6 | 1      |\n",
    "| 1 | -5 | 2      |\n",
    "| 2 | -4 | 3      |\n",
    "| 3 | -3 | a      |\n",
    "| 4 | -2 | b      |\n",
    "| 5 | -1 | c      |  \n",
    "  \n",
    "  \n",
    "**Diccionario**\n",
    "| Key | Value    |\n",
    "|-----|----------|\n",
    "| ECU | Ecuador  |\n",
    "| COL | Colombia |\n",
    "| PER | Perú     |\n",
    "| BOL | Bolivia  |"
   ],
   "metadata": {}
  },
  {
   "cell_type": "code",
   "execution_count": 52,
   "source": [
    "# Seleccionar elementos\n",
    "print( list1[0] )\n",
    "print( list1[2] )\n",
    "print( list1[5] )"
   ],
   "outputs": [
    {
     "output_type": "stream",
     "name": "stdout",
     "text": [
      "1\n",
      "3\n",
      "c\n"
     ]
    }
   ],
   "metadata": {}
  },
  {
   "cell_type": "code",
   "execution_count": 53,
   "source": [
    "# Seleccionar rangos\n",
    "print( list1[3:7] )\n",
    "print( list1[2:] )"
   ],
   "outputs": [
    {
     "output_type": "stream",
     "name": "stdout",
     "text": [
      "['a', 'b', 'c']\n",
      "[3, 'a', 'b', 'c']\n"
     ]
    }
   ],
   "metadata": {}
  },
  {
   "cell_type": "code",
   "execution_count": 54,
   "source": [
    "# Seleccionar desde el último elemento\n",
    "print( list1[-4] )"
   ],
   "outputs": [
    {
     "output_type": "stream",
     "name": "stdout",
     "text": [
      "3\n"
     ]
    }
   ],
   "metadata": {}
  },
  {
   "cell_type": "code",
   "execution_count": 66,
   "source": [
    "# Diccionario\n",
    "print(dict1[\"COL\"])"
   ],
   "outputs": [
    {
     "output_type": "stream",
     "name": "stdout",
     "text": [
      "Colombia\n"
     ]
    }
   ],
   "metadata": {}
  },
  {
   "cell_type": "markdown",
   "source": [
    "```{admonition} Pregunta\n",
    "En la *lista1* seleccione asigne la letra \"z\" a los dos elementos interm\n",
    "```"
   ],
   "metadata": {}
  },
  {
   "cell_type": "code",
   "execution_count": null,
   "source": [],
   "outputs": [],
   "metadata": {}
  },
  {
   "cell_type": "markdown",
   "source": [
    "Si las colecciones son modificables (o mutables), podemos modificar datos específicos"
   ],
   "metadata": {}
  },
  {
   "cell_type": "code",
   "execution_count": 56,
   "source": [
    "lista2 = [1, 2, 3, \"a\", \"b\", \"c\"]"
   ],
   "outputs": [],
   "metadata": {}
  },
  {
   "cell_type": "markdown",
   "source": [
    "```{admonition} Pregunta\n",
    "En la *lista1* seleccione asigne la letra \"z\" a los dos elementos interm\n",
    "```"
   ],
   "metadata": {}
  },
  {
   "cell_type": "markdown",
   "source": [
    "\n"
   ],
   "metadata": {}
  }
 ],
 "metadata": {
  "orig_nbformat": 4,
  "language_info": {
   "name": "python",
   "version": "3.9.7",
   "mimetype": "text/x-python",
   "codemirror_mode": {
    "name": "ipython",
    "version": 3
   },
   "pygments_lexer": "ipython3",
   "nbconvert_exporter": "python",
   "file_extension": ".py"
  },
  "kernelspec": {
   "name": "python3",
   "display_name": "Python 3.9.7 64-bit"
  },
  "interpreter": {
   "hash": "e7370f93d1d0cde622a1f8e1c04877d8463912d04d973331ad4851f04de6915a"
  }
 },
 "nbformat": 4,
 "nbformat_minor": 2
}