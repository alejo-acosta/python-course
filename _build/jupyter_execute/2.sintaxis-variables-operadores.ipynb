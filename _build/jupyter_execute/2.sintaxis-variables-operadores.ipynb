{
 "cells": [
  {
   "cell_type": "markdown",
   "metadata": {},
   "source": [
    "# 2. Sintaxis, variables y operadores"
   ]
  },
  {
   "cell_type": "markdown",
   "metadata": {},
   "source": [
    "## 2.1. Sintaxis"
   ]
  },
  {
   "cell_type": "markdown",
   "metadata": {},
   "source": [
    "En general Python usa una sintaxis en forma de *funciones*: $f(x,y,z)$"
   ]
  },
  {
   "cell_type": "code",
   "execution_count": 1,
   "metadata": {},
   "outputs": [
    {
     "name": "stdout",
     "output_type": "stream",
     "text": [
      "1 2 hola UDLA\n"
     ]
    },
    {
     "data": {
      "text/plain": [
       "range(0, 10)"
      ]
     },
     "execution_count": 1,
     "metadata": {},
     "output_type": "execute_result"
    }
   ],
   "source": [
    "print(1,2, 'hola', 'UDLA')\n",
    "\n",
    "range(10)"
   ]
  },
  {
   "cell_type": "markdown",
   "metadata": {},
   "source": [
    "Para delimitar texto se puede ocupar doble o simple comillas: \"hola\" , 'hola'"
   ]
  },
  {
   "cell_type": "markdown",
   "metadata": {},
   "source": [
    "Todo lo que esté después del signo numeral # se lee como comentario."
   ]
  },
  {
   "cell_type": "code",
   "execution_count": 2,
   "metadata": {},
   "outputs": [
    {
     "name": "stdout",
     "output_type": "stream",
     "text": [
      "Esto es código. La raíz cuadrada de 2 es =  1.4142135623730951\n"
     ]
    }
   ],
   "source": [
    "# Esto es un comentario\n",
    "print('Esto es código. La raíz cuadrada de 2 es = ', 2**0.5) # Esto también es un comentario\n",
    "# Esta línea también es comentario"
   ]
  },
  {
   "cell_type": "code",
   "execution_count": 3,
   "metadata": {},
   "outputs": [
    {
     "name": "stdout",
     "output_type": "stream",
     "text": [
      "investigación\n"
     ]
    }
   ],
   "source": [
    "# Algunas funciones específicas se pueden encadenar:\n",
    "\n",
    "texto = \"Investigación\"\n",
    "print(texto.upper().lower())\n"
   ]
  },
  {
   "cell_type": "code",
   "execution_count": 4,
   "metadata": {},
   "outputs": [
    {
     "name": "stdout",
     "output_type": "stream",
     "text": [
      "HOLA\n"
     ]
    }
   ],
   "source": [
    "# una larga línea de código se puede dividir con backslash \\\n",
    "print(\"hola\"\\\n",
    "    .upper())\n"
   ]
  },
  {
   "cell_type": "markdown",
   "metadata": {},
   "source": [
    "La sangría son los espacios al comienzo de una línea de código.\n",
    "\n",
    "En otros lenguajes de programación la sangría se usa solo por legibilidad (e.g. R, Stata), pero en Python es muy importante.\n",
    "\n",
    "Python usa sangría para indicar bloques de código."
   ]
  },
  {
   "cell_type": "code",
   "execution_count": 5,
   "metadata": {},
   "outputs": [],
   "source": [
    "def cubo_mas_uno(x):\n",
    "    c = x * x * x\n",
    "    c = c + 1\n",
    "    return c\n"
   ]
  },
  {
   "cell_type": "code",
   "execution_count": 6,
   "metadata": {},
   "outputs": [
    {
     "data": {
      "text/plain": [
       "28"
      ]
     },
     "execution_count": 6,
     "metadata": {},
     "output_type": "execute_result"
    }
   ],
   "source": [
    "cubo_mas_uno(3)\n"
   ]
  },
  {
   "cell_type": "markdown",
   "metadata": {},
   "source": [
    "## 2.1. Introducción a datos"
   ]
  },
  {
   "cell_type": "markdown",
   "metadata": {},
   "source": [
    "Una variable es una referencia (o vínculo) que hacemos entre un nombre y un espacio en la memoria."
   ]
  },
  {
   "cell_type": "markdown",
   "metadata": {},
   "source": [
    "### Memory reference"
   ]
  },
  {
   "cell_type": "markdown",
   "metadata": {},
   "source": [
    "<!-- <p><img alt=\"UDLA logo\" height=\"480px\" src=\"./images/memory.jpg\" align=\"center\" hspace=\"10px\" vspace=\"10px\"></p> -->\n",
    "![image](./images/memory.jpg)\n"
   ]
  },
  {
   "cell_type": "markdown",
   "metadata": {},
   "source": [
    "### Resource allocation"
   ]
  },
  {
   "cell_type": "markdown",
   "metadata": {},
   "source": [
    "<!-- <p><img alt=\"UDLA logo\" height=\"480px\" src=\"./images/cpu.jpg\" align=\"center\" hspace=\"10px\" vspace=\"10px\"></p> -->\n",
    "![image](./images/cpu.jpg)"
   ]
  },
  {
   "cell_type": "code",
   "execution_count": 7,
   "metadata": {},
   "outputs": [],
   "source": [
    "x = [\"a\", \"b\", \"c\"]\n",
    "\n",
    "y = x\n",
    "\n",
    "y[0] = \"z\"\n"
   ]
  },
  {
   "cell_type": "code",
   "execution_count": 8,
   "metadata": {},
   "outputs": [
    {
     "name": "stdout",
     "output_type": "stream",
     "text": [
      "['z', 'b', 'c']\n"
     ]
    }
   ],
   "source": [
    "print(x)"
   ]
  },
  {
   "cell_type": "markdown",
   "metadata": {},
   "source": [
    "## Tipos de variables"
   ]
  },
  {
   "cell_type": "markdown",
   "metadata": {},
   "source": [
    "### Numéricas"
   ]
  },
  {
   "cell_type": "code",
   "execution_count": 9,
   "metadata": {},
   "outputs": [
    {
     "name": "stdout",
     "output_type": "stream",
     "text": [
      "12345\n",
      "1.234\n",
      "(1.2+3.4j)\n"
     ]
    }
   ],
   "source": [
    "enteros = 12345\n",
    "flotantes = 1.234\n",
    "complejos = complex(1.2, 3.4)\n",
    "\n",
    "print(enteros)\n",
    "print(flotantes)\n",
    "print(complejos)\n"
   ]
  },
  {
   "cell_type": "markdown",
   "metadata": {},
   "source": [
    "### String (Texto)"
   ]
  },
  {
   "cell_type": "code",
   "execution_count": 10,
   "metadata": {},
   "outputs": [
    {
     "name": "stdout",
     "output_type": "stream",
     "text": [
      "Hola UDLA\n"
     ]
    }
   ],
   "source": [
    "texto1 = 'Hola UDLA'\n",
    "\n",
    "print(texto1)"
   ]
  },
  {
   "cell_type": "code",
   "execution_count": 11,
   "metadata": {},
   "outputs": [
    {
     "name": "stdout",
     "output_type": "stream",
     "text": [
      "\n",
      "String\n",
      "en\n",
      "multiples\n",
      "líneas\n",
      "\n"
     ]
    }
   ],
   "source": [
    "# Multiples líneas de texto\n",
    "texto_lineas = \"\"\"\n",
    "String\n",
    "en\n",
    "multiples\n",
    "líneas\n",
    "\"\"\"\n",
    "\n",
    "print(texto_lineas)"
   ]
  },
  {
   "cell_type": "code",
   "execution_count": 12,
   "metadata": {},
   "outputs": [
    {
     "name": "stdout",
     "output_type": "stream",
     "text": [
      "línea 1 \n",
      " línea 2\n",
      "-------------------------\n",
      "línea 1 \t línea 2\n"
     ]
    }
   ],
   "source": [
    "# Se puede incluir caracteres especiales con backslash \\:\n",
    "texto_espacio = \"línea 1 \\n línea 2\" # \\n = newline\n",
    "texto_tab = \"línea 1 \\t línea 2\" # \\n = newline\n",
    "\n",
    "print(texto_espacio)\n",
    "print(\"-------------------------\")\n",
    "print(texto_tab)"
   ]
  },
  {
   "cell_type": "code",
   "execution_count": 13,
   "metadata": {},
   "outputs": [
    {
     "name": "stdout",
     "output_type": "stream",
     "text": [
      "La raíz de 12 es 3.4641016151377544 y su cubo es 1728\n"
     ]
    }
   ],
   "source": [
    "# El texto puede tomar el valor de una variable (formatted text)\n",
    "\n",
    "numero = 12\n",
    "texto_formato = f\"La raíz de {numero} es {numero**0.5} y su cubo es {numero**3}\"\n",
    "\n",
    "print(texto_formato)"
   ]
  },
  {
   "cell_type": "markdown",
   "metadata": {},
   "source": [
    "### Colecciones de datos (o datos estructurados)"
   ]
  },
  {
   "cell_type": "markdown",
   "metadata": {},
   "source": [
    "Son agrupaciones que nos permiten asignar multiples datos a una sola variable.\n",
    "\n",
    "Existen 4 tipos de colecciones:"
   ]
  },
  {
   "cell_type": "markdown",
   "metadata": {},
   "source": [
    "|                                     | Ordenada |  Indexada  | Modificable | Permite duplicados |\n",
    "|:-----------------------------------:|:--------:|:----------:|:-----------:|:------------------:|\n",
    "|       **Lista**<br />(*List*)       |     X    |  X (auto)  |      X      |          X         |\n",
    "|       **Tupla**<br />(*Tuple*)      |     X    |  X (auto)  |             |          X         |\n",
    "| **Diccionario**<br />(*Dictionary*) |     X    | X (manual) |      X      |                    |\n",
    "|      **Conjunto**<br />(*Set*)      |          |            |      X      |                    |"
   ]
  },
  {
   "cell_type": "markdown",
   "metadata": {},
   "source": [
    "Se declaran de la siguiente manera:"
   ]
  },
  {
   "cell_type": "code",
   "execution_count": 14,
   "metadata": {},
   "outputs": [],
   "source": [
    "# LISTAS\n",
    "list1 = [1, 2, 3, 1, 2, \"a\", \"b\", \"a\", \"b\"]\n",
    "\n",
    "# TUPLAS\n",
    "tuple1 = (1, 2, 3, 4, 5, \"a\", \"b\", 1)\n",
    "\n",
    "# DICCIONARIOS\n",
    "dict1 = {\"ECU\": \"Ecuador\", \"COL\": \"Colombia\", \"PER\": \"Perú\", \"BOL\": \"Bolivia\"}\n",
    "\n",
    "# SETS\n",
    "set1 = set(list1)\n"
   ]
  },
  {
   "cell_type": "code",
   "execution_count": 15,
   "metadata": {},
   "outputs": [
    {
     "name": "stdout",
     "output_type": "stream",
     "text": [
      "[1, 2, 3, 1, 2, 'a', 'b', 'a', 'b']\n",
      "(1, 2, 3, 4, 5, 'a', 'b', 1)\n",
      "{'ECU': 'Ecuador', 'COL': 'Colombia', 'PER': 'Perú', 'BOL': 'Bolivia'}\n",
      "{'a', 1, 2, 3, 'b'}\n"
     ]
    }
   ],
   "source": [
    "print(list1)\n",
    "print(tuple1)\n",
    "print(dict1)\n",
    "print(set1)"
   ]
  },
  {
   "cell_type": "markdown",
   "metadata": {},
   "source": [
    "A estas colecciones se les considera estructuras unidemensionales. Sin embargo, podemos representar N dimensiones al anidarlar (*nested lists*)."
   ]
  },
  {
   "cell_type": "code",
   "execution_count": 16,
   "metadata": {},
   "outputs": [
    {
     "name": "stdout",
     "output_type": "stream",
     "text": [
      "[[3, 4, 5], [2, 6, 7], [0, 1, 9]]\n",
      "{'A0001': [10, 10, 8, 9, 8], 'A0002': [3, 1, 5, 7.4, 8]}\n"
     ]
    }
   ],
   "source": [
    "matriz = [[3, 4, 5], [2, 6, 7], [0, 1, 9]]\n",
    "notas = {\"A0001\": [10, 10, 8, 9, 8], \"A0002\": [3, 1, 5, 7.4, 8]}\n",
    "\n",
    "print(matriz)\n",
    "print(notas)"
   ]
  },
  {
   "cell_type": "markdown",
   "metadata": {},
   "source": [
    "La idea es que, al ser un lenguaje **dinámico**, no hay restricción en lo que se puede agrupar en una colección de datos."
   ]
  },
  {
   "cell_type": "markdown",
   "metadata": {},
   "source": [
    "## Slicing"
   ]
  },
  {
   "cell_type": "markdown",
   "metadata": {},
   "source": [
    "Podemos seleccionar datos específicos de las colecciones utilizando el método slicing. **Tener en cuenta que la numeración empieza en 0**."
   ]
  },
  {
   "cell_type": "code",
   "execution_count": 17,
   "metadata": {},
   "outputs": [],
   "source": [
    "list1 = [1, 2, 3, \"a\", \"b\", \"c\"]"
   ]
  },
  {
   "cell_type": "markdown",
   "metadata": {},
   "source": [
    "**Lista**\n",
    "|key|-key|  Value |\n",
    "|---|----|--------|\n",
    "| 0 | -6 | 1      |\n",
    "| 1 | -5 | 2      |\n",
    "| 2 | -4 | 3      |\n",
    "| 3 | -3 | a      |\n",
    "| 4 | -2 | b      |\n",
    "| 5 | -1 | c      |  \n",
    "  \n",
    "  \n",
    "**Diccionario**\n",
    "| Key | Value    |\n",
    "|-----|----------|\n",
    "| ECU | Ecuador  |\n",
    "| COL | Colombia |\n",
    "| PER | Perú     |\n",
    "| BOL | Bolivia  |"
   ]
  },
  {
   "cell_type": "code",
   "execution_count": 18,
   "metadata": {},
   "outputs": [
    {
     "name": "stdout",
     "output_type": "stream",
     "text": [
      "1\n",
      "3\n",
      "c\n"
     ]
    }
   ],
   "source": [
    "# Seleccionar elementos\n",
    "print( list1[0] )\n",
    "print( list1[2] )\n",
    "print( list1[5] )"
   ]
  },
  {
   "cell_type": "code",
   "execution_count": 19,
   "metadata": {},
   "outputs": [
    {
     "name": "stdout",
     "output_type": "stream",
     "text": [
      "['a', 'b', 'c']\n",
      "[3, 'a', 'b', 'c']\n"
     ]
    }
   ],
   "source": [
    "# Seleccionar rangos\n",
    "print( list1[3:7] )\n",
    "print( list1[2:] )"
   ]
  },
  {
   "cell_type": "code",
   "execution_count": 20,
   "metadata": {},
   "outputs": [
    {
     "name": "stdout",
     "output_type": "stream",
     "text": [
      "3\n"
     ]
    }
   ],
   "source": [
    "# Seleccionar desde el último elemento\n",
    "print( list1[-4] )"
   ]
  },
  {
   "cell_type": "code",
   "execution_count": 21,
   "metadata": {},
   "outputs": [
    {
     "name": "stdout",
     "output_type": "stream",
     "text": [
      "Colombia\n"
     ]
    }
   ],
   "source": [
    "# Diccionario\n",
    "print(dict1[\"COL\"])"
   ]
  },
  {
   "cell_type": "markdown",
   "metadata": {},
   "source": [
    "```{admonition} Pregunta\n",
    "En la *lista1* seleccione asigne la letra \"z\" a los dos elementos interm\n",
    "```"
   ]
  },
  {
   "cell_type": "code",
   "execution_count": null,
   "metadata": {},
   "outputs": [],
   "source": []
  },
  {
   "cell_type": "markdown",
   "metadata": {},
   "source": [
    "Si las colecciones son modificables (o mutables), podemos modificar datos específicos"
   ]
  },
  {
   "cell_type": "code",
   "execution_count": 22,
   "metadata": {},
   "outputs": [],
   "source": [
    "lista2 = [1, 2, 3, \"a\", \"b\", \"c\"]"
   ]
  },
  {
   "cell_type": "markdown",
   "metadata": {},
   "source": [
    "```{admonition} Pregunta\n",
    "En la *lista1* seleccione asigne la letra \"z\" a los dos elementos interm\n",
    "```"
   ]
  },
  {
   "cell_type": "markdown",
   "metadata": {},
   "source": [
    "\n"
   ]
  }
 ],
 "metadata": {
  "interpreter": {
   "hash": "e7370f93d1d0cde622a1f8e1c04877d8463912d04d973331ad4851f04de6915a"
  },
  "kernelspec": {
   "display_name": "Python 3.9.6 64-bit",
   "name": "python3"
  },
  "language_info": {
   "codemirror_mode": {
    "name": "ipython",
    "version": 3
   },
   "file_extension": ".py",
   "mimetype": "text/x-python",
   "name": "python",
   "nbconvert_exporter": "python",
   "pygments_lexer": "ipython3",
   "version": "3.9.6"
  }
 },
 "nbformat": 4,
 "nbformat_minor": 2
}