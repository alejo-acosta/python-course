{
 "cells": [
  {
   "cell_type": "markdown",
   "source": [
    "# 2. Sintaxis, variables y operadores"
   ],
   "metadata": {}
  },
  {
   "cell_type": "markdown",
   "source": [
    "## 2.1. Sintaxis"
   ],
   "metadata": {}
  },
  {
   "cell_type": "markdown",
   "source": [
    "En general Python usa una sintaxis en forma de *funciones*: $f(x,y,z)$"
   ],
   "metadata": {}
  },
  {
   "cell_type": "code",
   "execution_count": 91,
   "source": [
    "print(1,2, 'hola', 'UDLA')"
   ],
   "outputs": [
    {
     "output_type": "stream",
     "name": "stdout",
     "text": [
      "1 2 hola UDLA\n"
     ]
    }
   ],
   "metadata": {}
  },
  {
   "cell_type": "markdown",
   "source": [
    "Para delimitar texto se puede ocupar doble o simple comillas: \"hola\" , 'hola'"
   ],
   "metadata": {}
  },
  {
   "cell_type": "markdown",
   "source": [
    "Todo lo que esté después del signo numeral # se lee como comentario."
   ],
   "metadata": {}
  },
  {
   "cell_type": "code",
   "execution_count": 109,
   "source": [
    "# Esto es un comentario\n",
    "print('esto es código. La raíz cuadrada de 2 es = ', 2**0.5) # Esto también es un comentario\n",
    "# Esta línea también es comentario"
   ],
   "outputs": [
    {
     "output_type": "stream",
     "name": "stdout",
     "text": [
      "esto es código. La raíz cuadrada de 2 es =  1.4142135623730951\n"
     ]
    }
   ],
   "metadata": {}
  },
  {
   "cell_type": "code",
   "execution_count": 110,
   "source": [
    "# Algunas funciones específicas se pueden encadenar:\n",
    "\n",
    "texto = \"Investigación\"\n",
    "print(texto.upper().lower())\n"
   ],
   "outputs": [
    {
     "output_type": "stream",
     "name": "stdout",
     "text": [
      "investigación\n"
     ]
    }
   ],
   "metadata": {}
  },
  {
   "cell_type": "code",
   "execution_count": 113,
   "source": [
    "# una larga línea de código se puede dividir con backslash \\\n",
    "print(\"hola\"\\\n",
    "    .upper())\n"
   ],
   "outputs": [
    {
     "output_type": "stream",
     "name": "stdout",
     "text": [
      "HOLA\n"
     ]
    }
   ],
   "metadata": {}
  },
  {
   "cell_type": "markdown",
   "source": [
    "La sangría son los espacios al comienzo de una línea de código.\n",
    "\n",
    "En otros lenguajes de programación la sangría se usa solo por legibilidad (e.g. R, Stata), pero en Python es muy importante.\n",
    "\n",
    "Python usa sangría para indicar bloques de código."
   ],
   "metadata": {}
  },
  {
   "cell_type": "code",
   "execution_count": 114,
   "source": [
    "def cubo_mas_uno(x):\n",
    "    c = x * x * x\n",
    "    c = c + 1\n",
    "    return c\n"
   ],
   "outputs": [],
   "metadata": {}
  },
  {
   "cell_type": "code",
   "execution_count": 96,
   "source": [
    "cubo_mas_uno(3)\n"
   ],
   "outputs": [
    {
     "output_type": "execute_result",
     "data": {
      "text/plain": [
       "28"
      ]
     },
     "metadata": {},
     "execution_count": 96
    }
   ],
   "metadata": {}
  },
  {
   "cell_type": "markdown",
   "source": [
    "## 2.1. Introducción a datos"
   ],
   "metadata": {}
  },
  {
   "cell_type": "markdown",
   "source": [
    "Una variable es una referencia (o vínculo) que hacemos entre un nombre y un espacio en la memoria."
   ],
   "metadata": {}
  },
  {
   "cell_type": "markdown",
   "source": [
    "### Memory reference"
   ],
   "metadata": {}
  },
  {
   "cell_type": "markdown",
   "source": [
    "<p><img alt=\"UDLA logo\" height=\"480px\" src=\"images/memory.jpg\" align=\"center\" hspace=\"10px\" vspace=\"10px\"></p>\n",
    "\n"
   ],
   "metadata": {}
  },
  {
   "cell_type": "markdown",
   "source": [
    "### Resource allocation"
   ],
   "metadata": {}
  },
  {
   "cell_type": "markdown",
   "source": [
    "<p><img alt=\"UDLA logo\" height=\"480px\" src=\"images/cpu.jpg\" align=\"center\" hspace=\"10px\" vspace=\"10px\"></p>"
   ],
   "metadata": {}
  },
  {
   "cell_type": "code",
   "execution_count": 99,
   "source": [
    "x = [\"a\", \"b\", \"c\"]\n",
    "\n",
    "y = x\n",
    "\n",
    "y[0] = \"z\"\n"
   ],
   "outputs": [],
   "metadata": {}
  },
  {
   "cell_type": "code",
   "execution_count": 100,
   "source": [
    "# print(x)"
   ],
   "outputs": [],
   "metadata": {}
  },
  {
   "cell_type": "markdown",
   "source": [
    "## Tipos de variables"
   ],
   "metadata": {}
  },
  {
   "cell_type": "markdown",
   "source": [
    "### Numéricas"
   ],
   "metadata": {}
  },
  {
   "cell_type": "code",
   "execution_count": 115,
   "source": [
    "enteros = 12345\n",
    "flotantes = 1.234\n",
    "complejos = complex(1.2, 3.4)\n",
    "\n",
    "print(enteros)\n",
    "print(flotantes)\n",
    "print(complejos)\n"
   ],
   "outputs": [
    {
     "output_type": "stream",
     "name": "stdout",
     "text": [
      "12345\n",
      "1.234\n",
      "(1.2+3.4j)\n"
     ]
    }
   ],
   "metadata": {}
  },
  {
   "cell_type": "markdown",
   "source": [
    "### String (Texto)"
   ],
   "metadata": {}
  },
  {
   "cell_type": "code",
   "execution_count": 117,
   "source": [
    "texto1 = 'Hola Udla'\n",
    "\n",
    "print(texto1)"
   ],
   "outputs": [
    {
     "output_type": "stream",
     "name": "stdout",
     "text": [
      "Hola Udla\n"
     ]
    }
   ],
   "metadata": {}
  },
  {
   "cell_type": "markdown",
   "source": [
    "### Estructurados"
   ],
   "metadata": {}
  },
  {
   "cell_type": "code",
   "execution_count": null,
   "source": [],
   "outputs": [],
   "metadata": {}
  }
 ],
 "metadata": {
  "orig_nbformat": 4,
  "language_info": {
   "name": "python",
   "version": "3.9.6",
   "mimetype": "text/x-python",
   "codemirror_mode": {
    "name": "ipython",
    "version": 3
   },
   "pygments_lexer": "ipython3",
   "nbconvert_exporter": "python",
   "file_extension": ".py"
  },
  "kernelspec": {
   "name": "python3",
   "display_name": "Python 3.9.6 64-bit"
  },
  "interpreter": {
   "hash": "e7370f93d1d0cde622a1f8e1c04877d8463912d04d973331ad4851f04de6915a"
  }
 },
 "nbformat": 4,
 "nbformat_minor": 2
}