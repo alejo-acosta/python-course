{
 "cells": [
  {
   "cell_type": "markdown",
   "source": [
    "# Simulación Mercado laboral"
   ],
   "metadata": {}
  },
  {
   "cell_type": "markdown",
   "source": [
    "## Librerias"
   ],
   "metadata": {}
  },
  {
   "cell_type": "code",
   "execution_count": 2,
   "source": [
    "import numpy as np\n",
    "import pandas as pd\n",
    "import matplotlib.pyplot as plt\n",
    "import seaborn as sns\n",
    "from ipywidgets import interactive, fixed\n",
    "\n",
    "plt.style.use('seaborn')\n",
    "plt.style.use('fivethirtyeight')\n",
    "\n",
    "plt.style.use('fivethirtyeight')\n",
    "plt.rcParams['figure.facecolor'] = 'white'\n",
    "plt.rcParams['axes.facecolor'] = 'white'\n",
    "plt.rcParams['axes.edgecolor'] = 'white'\n",
    "plt.rcParams[\"font.family\"] = \"Times New Roman\""
   ],
   "outputs": [],
   "metadata": {}
  },
  {
   "cell_type": "markdown",
   "source": [
    "## Simulación"
   ],
   "metadata": {}
  },
  {
   "cell_type": "code",
   "execution_count": 3,
   "source": [
    "def generate_data(n=5000):\n",
    "    np.random.seed(12345679)\n",
    "    mean = 1\n",
    "    var = 1\n",
    "\n",
    "    alpha = np.random.normal(mean, var, n)\n",
    "    epsil = np.random.normal(mean, var, n)\n",
    "\n",
    "    eta0 = np.random.normal(mean, var, n)\n",
    "    eta1 = np.random.normal(mean, var, n)\n",
    "    tau0 = np.random.normal(mean, var, n)\n",
    "    tau1 = np.random.normal(mean, var, n)\n",
    "\n",
    "    return np.array([alpha, epsil, eta0, eta1, tau0, tau1])"
   ],
   "outputs": [],
   "metadata": {}
  },
  {
   "cell_type": "code",
   "execution_count": 4,
   "source": [
    "def simulate(array, d_alpha=0, d_epsil=0, d_eta0=0, d_eta1=0, d_tau0=0, d_tau1=0):\n",
    "    alpha = array[0] + d_alpha\n",
    "    epsil = array[1] + d_epsil\n",
    "    eta0  = array[2] + d_eta0\n",
    "    eta1  = array[3] + d_eta1\n",
    "    tau0  = array[4] + d_tau0\n",
    "    tau1  = array[5] + d_tau1\n",
    "\n",
    "    # SECTOR\n",
    "    s  = (eta1 - eta0) > (tau1 - tau0)\n",
    "    S1 = (eta1 - eta0) - (tau1 - tau0) >= +(alpha - epsil + (eta1*s + eta0*(1-s)) - (tau1*s + tau0*(1-s)))\n",
    "    s0 = (eta1 - eta0) - (tau1 - tau0) >= -(alpha - epsil + (eta1*s + eta0*(1-s)) - (tau1*s + tau0*(1-s)))\n",
    "\n",
    "    # COORDINATES\n",
    "    x = (eta1 - eta0) - (tau1 - tau0)\n",
    "    y = alpha - epsil + (eta1*s + eta0*(1-s)) - (tau1*s + tau0*(1-s))\n",
    "\n",
    "    # GROUP\n",
    "    l = y > 0\n",
    "    c = np.where(l == 1, np.where(s == 0, 0+s0, 2+S1), 4)\n",
    "\n",
    "    points = np.array([x,y,c])\n",
    "\n",
    "    return points[:,points[2,:].argsort()]\n",
    "    "
   ],
   "outputs": [],
   "metadata": {}
  },
  {
   "cell_type": "code",
   "execution_count": 5,
   "source": [
    "def plot_simulation(array, title='', save=False, **kwargs):\n",
    "    title = str(title)\n",
    "    n = array.shape[1]\n",
    "    x,y,c = simulate(array, **kwargs)\n",
    "    \n",
    "    c_label = {0: 'Informal-Survival', 1: 'Informal-Parasite', 2: 'Formal-Type II', 3: 'Formal-Type  I', 4: 'Non-employed'}\n",
    "    c_color = {0: 'tab:cyan', 1: 'tab:blue', 2: 'tab:green', 3: 'tab:olive', 4: 'tab:red'}\n",
    "\n",
    "    fig, ax = plt.subplots(figsize=(6,6), dpi=100, facecolor='white')\n",
    "    for ci in np.unique(c):\n",
    "        xt = x[c==ci]\n",
    "        yt = y[c==ci]\n",
    "        label = c_label[ci] + f': {len(xt)/n:.1%}'\n",
    "        ax.scatter(xt,yt, marker='.', c=c_color[ci], label=label, facecolor='white')\n",
    "\n",
    "    axxlim = plt.gca().get_xlim()\n",
    "    axylim = plt.gca().get_ylim()\n",
    "    prop = (-axylim[0])/(axylim[1] - axylim[0]) #*0+0.5\n",
    "    ax.axhline(0, linewidth=1)\n",
    "    ax.axvline(0, prop, 1, linewidth=1)\n",
    "    ax.plot([-20,0,20],[20,0,20],linewidth=1)\n",
    "    plt.xlim(axxlim)\n",
    "    plt.ylim(axylim)\n",
    "    ax.legend(frameon=True, fancybox=True, framealpha=1, loc='lower right') #loc='upper left', bbox_to_anchor=(1.01, 1))\n",
    "    ax.set_xlabel(r\"Sector specific benefits/costs $=\\left(\\eta_{1}-\\eta_{0}\\right)-\\left(\\tau_{1}-\\tau_{0}\\right)$\", fontsize=10)\n",
    "    ax.set_ylabel(r\"Surplus $ = \\alpha-\\epsilon+\\eta_{s}-\\tau_{s}$\", fontsize=10)\n",
    "    ax.set_title(title, fontsize=14)\n",
    "    if save: plt.savefig(f'./figures/fig-{title}.png',dpi=300,bbox_inches='tight')"
   ],
   "outputs": [],
   "metadata": {}
  },
  {
   "cell_type": "code",
   "execution_count": 6,
   "source": [
    "array = generate_data(5000)\n",
    "simul = simulate(array)"
   ],
   "outputs": [],
   "metadata": {}
  },
  {
   "cell_type": "markdown",
   "source": [
    "## Labor Market Policies in a Roy-Rosen Bargaining Economy"
   ],
   "metadata": {}
  },
  {
   "cell_type": "code",
   "execution_count": 7,
   "source": [
    "interactive_plot = interactive(plot_simulation, array=fixed(array), save=False, title='Baseline' ,d_alpha=(-8,8,.5), d_tau0=(-8,8,.5), d_tau1=(-8,8,.5))\n",
    "interactive_plot"
   ],
   "outputs": [
    {
     "output_type": "display_data",
     "data": {
      "text/plain": [
       "interactive(children=(Text(value='Baseline', description='title'), Checkbox(value=False, description='save'), …"
      ],
      "application/vnd.jupyter.widget-view+json": {
       "version_major": 2,
       "version_minor": 0,
       "model_id": "d285d529f1594797af0fdbfb9c38a371"
      }
     },
     "metadata": {}
    }
   ],
   "metadata": {}
  }
 ],
 "metadata": {
  "interpreter": {
   "hash": "1cb5b5aa321ce5384aebaefcef0f70d26743961cd5903b71c7e186ed25deb2f7"
  },
  "kernelspec": {
   "display_name": "Python 3.9.5 64-bit",
   "name": "python3"
  },
  "language_info": {
   "codemirror_mode": {
    "name": "ipython",
    "version": 3
   },
   "file_extension": ".py",
   "mimetype": "text/x-python",
   "name": "python",
   "nbconvert_exporter": "python",
   "pygments_lexer": "ipython3",
   "version": "3.9.5"
  },
  "orig_nbformat": 4
 },
 "nbformat": 4,
 "nbformat_minor": 2
}